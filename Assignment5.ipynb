{
  "nbformat": 4,
  "nbformat_minor": 0,
  "metadata": {
    "colab": {
      "provenance": []
    },
    "kernelspec": {
      "name": "python3",
      "display_name": "Python 3"
    },
    "language_info": {
      "name": "python"
    }
  },
  "cells": [
    {
      "cell_type": "code",
      "execution_count": null,
      "metadata": {
        "id": "WMUxcBYxadVf"
      },
      "outputs": [],
      "source": [
        "enter:int = int(input(\"Enter your Age\"));\n",
        "if(enter<5):\n",
        "  print(\"You are free\");\n",
        "elif(enter==5&enter==17):\n",
        "  print(\"Pay 10 dollar\");\n",
        "elif(enter>=18&enter<=60):\n",
        "  print(\"pay 20 dollar\");\n",
        "else :\n",
        "  print(\"pay 15 dollar\");\n"
      ]
    },
    {
      "cell_type": "code",
      "source": [
        "time:int = int(input(\"Enter your time\"));\n",
        "if(time>5&time<11):\n",
        "  print(\"Breakfast\");\n",
        "elif(time>12&time<16):\n",
        "  print(\"Lunch\");\n",
        "elif(time>17&time<21):\n",
        "  print(\"Dinner\");\n",
        "else:\n",
        "  print(\"Sleep\");"
      ],
      "metadata": {
        "colab": {
          "base_uri": "https://localhost:8080/"
        },
        "id": "lu8f6YcTamAS",
        "outputId": "bc7fccd7-42e8-4a3a-caa4-1381dff74c3c"
      },
      "execution_count": 2,
      "outputs": [
        {
          "output_type": "stream",
          "name": "stdout",
          "text": [
            "Enter your time23\n",
            "Breakfast\n"
          ]
        }
      ]
    },
    {
      "cell_type": "code",
      "source": [
        "G1:int = int((input(\"Enter your first Grocery item price: \")));\n",
        "G2:int = int((input(\"Enter your second Grocery item price: \")));\n",
        "G3:int = int((input(\"Enter your third Grocery item price: \")));\n",
        "G4:int = int((input(\"Enter your fourth Grocery item price: \")));\n",
        "G5:int = int((input(\"Enter your fifth Grocery item price:\")));\n",
        "Total_bill:int = G1+G2+G3+G4+G5;\n",
        "print(\"Your total bill is: \",Total_bill);\n",
        "if(Total_bill>=100):\n",
        "  Total_bill = Total_bill-Total_bill*10/100;\n",
        "  print(\"Discounted bill\",Total_bill);\n",
        "else:\n",
        "  print(\"No discount Available\");"
      ],
      "metadata": {
        "colab": {
          "base_uri": "https://localhost:8080/"
        },
        "id": "tlyPxVp9aqdC",
        "outputId": "ed115fbf-9cde-4b29-cd04-2fcc3e14f98c"
      },
      "execution_count": 3,
      "outputs": [
        {
          "output_type": "stream",
          "name": "stdout",
          "text": [
            "Enter your first Grocery item price: 15\n",
            "Enter your second Grocery item price: 5\n",
            "Enter your third Grocery item price: 24\n",
            "Enter your fourth Grocery item price: 56\n",
            "Enter your fifth Grocery item price:45\n",
            "Your total bill is:  145\n",
            "Discounted bill 130.5\n"
          ]
        }
      ]
    },
    {
      "cell_type": "code",
      "source": [
        "Username = input(\"Enter username\");\n",
        "username:int =int (Username.len());\n",
        "if(username>5&username<15):\n",
        "  if(Username.isalpha()):\n",
        "    print(\"Valid Username = \",Username);\n",
        "  else:\n",
        "    print(\"Invalid Username = \",Username);\n",
        "else:\n",
        "    print(\"Invalid Username = \",Username);\n"
      ],
      "metadata": {
        "colab": {
          "base_uri": "https://localhost:8080/",
          "height": 228
        },
        "id": "Yt9M6IUjb36P",
        "outputId": "93cc69d7-752c-4a20-addd-4e81befc17a2"
      },
      "execution_count": 7,
      "outputs": [
        {
          "name": "stdout",
          "output_type": "stream",
          "text": [
            "Enter usernamegtyj67\n"
          ]
        },
        {
          "output_type": "error",
          "ename": "AttributeError",
          "evalue": "'str' object has no attribute 'len'",
          "traceback": [
            "\u001b[0;31m---------------------------------------------------------------------------\u001b[0m",
            "\u001b[0;31mAttributeError\u001b[0m                            Traceback (most recent call last)",
            "\u001b[0;32m<ipython-input-7-4d46b4d82dfa>\u001b[0m in \u001b[0;36m<cell line: 2>\u001b[0;34m()\u001b[0m\n\u001b[1;32m      1\u001b[0m \u001b[0mUsername\u001b[0m \u001b[0;34m=\u001b[0m \u001b[0minput\u001b[0m\u001b[0;34m(\u001b[0m\u001b[0;34m\"Enter username\"\u001b[0m\u001b[0;34m)\u001b[0m\u001b[0;34m;\u001b[0m\u001b[0;34m\u001b[0m\u001b[0;34m\u001b[0m\u001b[0m\n\u001b[0;32m----> 2\u001b[0;31m \u001b[0musername\u001b[0m\u001b[0;34m:\u001b[0m\u001b[0mint\u001b[0m \u001b[0;34m=\u001b[0m \u001b[0mUsername\u001b[0m\u001b[0;34m.\u001b[0m\u001b[0mlen\u001b[0m\u001b[0;34m(\u001b[0m\u001b[0;34m)\u001b[0m\u001b[0;34m;\u001b[0m\u001b[0;34m\u001b[0m\u001b[0;34m\u001b[0m\u001b[0m\n\u001b[0m\u001b[1;32m      3\u001b[0m \u001b[0;32mif\u001b[0m\u001b[0;34m(\u001b[0m\u001b[0musername\u001b[0m\u001b[0;34m>\u001b[0m\u001b[0;36m5\u001b[0m\u001b[0;34m&\u001b[0m\u001b[0musername\u001b[0m\u001b[0;34m<\u001b[0m\u001b[0;36m15\u001b[0m\u001b[0;34m)\u001b[0m\u001b[0;34m:\u001b[0m\u001b[0;34m\u001b[0m\u001b[0;34m\u001b[0m\u001b[0m\n\u001b[1;32m      4\u001b[0m   \u001b[0;32mif\u001b[0m\u001b[0;34m(\u001b[0m\u001b[0mUsername\u001b[0m\u001b[0;34m.\u001b[0m\u001b[0misalpha\u001b[0m\u001b[0;34m(\u001b[0m\u001b[0;34m)\u001b[0m\u001b[0;34m)\u001b[0m\u001b[0;34m:\u001b[0m\u001b[0;34m\u001b[0m\u001b[0;34m\u001b[0m\u001b[0m\n\u001b[1;32m      5\u001b[0m     \u001b[0mprint\u001b[0m\u001b[0;34m(\u001b[0m\u001b[0;34m\"Valid Username = \"\u001b[0m\u001b[0;34m,\u001b[0m\u001b[0mUsername\u001b[0m\u001b[0;34m)\u001b[0m\u001b[0;34m;\u001b[0m\u001b[0;34m\u001b[0m\u001b[0;34m\u001b[0m\u001b[0m\n",
            "\u001b[0;31mAttributeError\u001b[0m: 'str' object has no attribute 'len'"
          ]
        }
      ]
    },
    {
      "cell_type": "code",
      "source": [
        "Fav_Weath = input(\"Enter your favourite weather = \");\n",
        "if(Fav_Weath=='Sunny'|| Fav_Weath=='sunny'||Fav_Weath=='SUNNY'):\n",
        "  print(\"Go to the Beach!\");\n",
        "elif(Fav_Weath=='Rainy'||Fav_Weath=='RAINY'||Fav_Weath=='rainy'):\n",
        "  print(\"Visit a cozy mountain Lodge\");\n",
        "elif(Fav_Weath=='Snowy',Fav_Weath=='SNOWY',Fav_Weath=='snowy'):\n",
        "  print(\"Time for Sky Trip\");\n",
        "\n"
      ],
      "metadata": {
        "colab": {
          "base_uri": "https://localhost:8080/"
        },
        "id": "kPHpSWbQbmum",
        "outputId": "949e5aa2-8262-4463-f3ed-2db569fe4eea"
      },
      "execution_count": 9,
      "outputs": [
        {
          "output_type": "stream",
          "name": "stdout",
          "text": [
            "Enter your favourite weatherSnowy\n",
            "Time for Sky Trip\n"
          ]
        }
      ]
    },
    {
      "cell_type": "code",
      "source": [
        "Tot_Amount:int = int(input(\"Enter your total amount = \"));\n",
        "Loyalty_Member = input(\"Are you a Loyalty Member = \");\n",
        "if(Tot_Amount>=200):\n",
        "  print(\"You are eligible for a 15% discount\");\n",
        "elif(Loyalty_Member=='Yes'||Loyalty_Member=='yes'||Loyalty_Member=='YES'):\n",
        "  print(\"You are eligible for a 15% discount\");\n",
        "else:\n",
        "  print(\"You are not eligible\");\n"
      ],
      "metadata": {
        "colab": {
          "base_uri": "https://localhost:8080/",
          "height": 106
        },
        "id": "dHOFLgksl55g",
        "outputId": "b897a671-2887-42d2-e80b-01aa04d9a524"
      },
      "execution_count": 12,
      "outputs": [
        {
          "output_type": "error",
          "ename": "SyntaxError",
          "evalue": "invalid syntax (<ipython-input-12-3b56b9f3106a>, line 5)",
          "traceback": [
            "\u001b[0;36m  File \u001b[0;32m\"<ipython-input-12-3b56b9f3106a>\"\u001b[0;36m, line \u001b[0;32m5\u001b[0m\n\u001b[0;31m    elif(Loyalty_Member=='Yes'||Loyalty_Member=='yes'||Loyalty_Member=='YES'):\u001b[0m\n\u001b[0m                               ^\u001b[0m\n\u001b[0;31mSyntaxError\u001b[0m\u001b[0;31m:\u001b[0m invalid syntax\n"
          ]
        }
      ]
    },
    {
      "cell_type": "code",
      "source": [
        "Guests:list = [\"Ali Hamza\",\"Zaroon Jamal\",\"Athar Abbas\",\"Mati ur Rahman\",\"Abdullah\"];\n",
        "Name = input(\"Enter your name with one space(first letter in capital) = \");\n",
        "if(Name in Guests):\n",
        "  print(\"You are invited to dinner\");\n",
        "else:\n",
        "  print(\"You are not invited to dinner\");"
      ],
      "metadata": {
        "colab": {
          "base_uri": "https://localhost:8080/"
        },
        "id": "zYUVRwBqrsiY",
        "outputId": "36aab769-71f9-481f-d6bf-19c21c762727"
      },
      "execution_count": 14,
      "outputs": [
        {
          "output_type": "stream",
          "name": "stdout",
          "text": [
            "Enter your name = zaroon jamal\n",
            "You are not invited to dinner\n"
          ]
        }
      ]
    },
    {
      "cell_type": "code",
      "source": [
        "Movies = input(\"Type of Movie = \");\n",
        "Age:int = int(input(\"Your age = \"));\n",
        "if(Age>=18):\n",
        "  print(\"Action Movies can watch\");\n",
        "if(Age>=12):\n",
        "  print(\"Documentries movies can watch\");\n",
        "print(\"Animated movies can watch\");\n"
      ],
      "metadata": {
        "colab": {
          "base_uri": "https://localhost:8080/"
        },
        "id": "dOeZgKpOjnnG",
        "outputId": "21a244e0-21c1-4089-fc7c-71ae1d13c8af"
      },
      "execution_count": 18,
      "outputs": [
        {
          "output_type": "stream",
          "name": "stdout",
          "text": [
            "Type of Movie = Documentry\n",
            "Your age = 15\n",
            "Documentries movies can watch\n",
            "Animated movies can watch\n"
          ]
        }
      ]
    },
    {
      "cell_type": "code",
      "source": [
        "Phone:int = int(input(\"Enter phone number in decimal(9876543210) = \"));\n",
        "\n"
      ],
      "metadata": {
        "id": "3B4sGb7vt9iF"
      },
      "execution_count": null,
      "outputs": []
    },
    {
      "cell_type": "code",
      "source": [
        "marks1:int = int(input(\"Enter your first subject marks = \"));\n",
        "marks2:int = int(input(\"Enter your second subject marks = \"));\n",
        "marks3:int = int(input(\"Enter your third subject marks = \"));\n",
        "marks4:int = int(input(\"Enter your fourth subject marks = \"));\n",
        "marks5:int = int(input(\"Enter your fifth subject marks = \"));\n",
        "Total_marks = marks1+marks2+marks3+marks4+marks5;\n",
        "Avg_marks = Total_marks/5;\n",
        "print(\"Your total marks = \",Total_marks);\n",
        "if(Avg_marks>=90):\n",
        "  print(\"Grade = A\");\n",
        "elif(Avg_marks>=80):\n",
        "  print(\"Grade = B\");\n",
        "elif(Avg_marks>=70):\n",
        "  print(\"Grade = C\");\n",
        "elif(Avg_marks>=60):\n",
        "  print(\"Grade = D\");\n",
        "else:\n",
        "  print(\"Fail\");"
      ],
      "metadata": {
        "colab": {
          "base_uri": "https://localhost:8080/"
        },
        "id": "5R2WAkHX4oSL",
        "outputId": "30625441-577b-4e20-84f3-ab6c5c49da8a"
      },
      "execution_count": 19,
      "outputs": [
        {
          "output_type": "stream",
          "name": "stdout",
          "text": [
            "Enter your first subject marks = 67\n",
            "Enter your second subject marks = 78\n",
            "Enter your third subject marks = 98\n",
            "Enter your fourth subject marks = 78\n",
            "Enter your fifth subject marks = 67\n",
            "Your total marks =  388\n",
            "Grade = C\n"
          ]
        }
      ]
    }
  ]
}