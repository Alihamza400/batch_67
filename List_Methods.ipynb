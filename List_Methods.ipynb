{
  "nbformat": 4,
  "nbformat_minor": 0,
  "metadata": {
    "colab": {
      "provenance": []
    },
    "kernelspec": {
      "name": "python3",
      "display_name": "Python 3"
    },
    "language_info": {
      "name": "python"
    }
  },
  "cells": [
    {
      "cell_type": "code",
      "execution_count": 14,
      "metadata": {
        "colab": {
          "base_uri": "https://localhost:8080/"
        },
        "id": "0AHDFBo2Ates",
        "outputId": "8b913fda-07b0-49ca-c13f-8dbfd8399d3d"
      },
      "outputs": [
        {
          "output_type": "stream",
          "name": "stdout",
          "text": [
            "Allah\n",
            "Athar Abbas\n",
            "Zaroon Jamal\n",
            "Mati ur Rahman\n",
            "['Allah', 'Athar Abbas', 'Zaroon Jamal', 'Mati ur Rahman']\n"
          ]
        }
      ],
      "source": [
        "names:list = [\"Zaroon Jamal\",\"Athar Abbas\",\"Tayyab Shahzad\",\"Mati ur Rahman\"];\n",
        "names[2] = \"Allah\";\n",
        "names.insert(0,\" \");\n",
        "names[0] = names[3];\n",
        "names[3] = names[1];\n",
        "names[1] = names[0];\n",
        "names.pop(0);\n",
        "\n",
        "print(names[0]);\n",
        "print(names[1]);\n",
        "print(names[2]);\n",
        "print(names[3]);\n",
        "print(names);\n",
        "\n"
      ]
    },
    {
      "cell_type": "code",
      "source": [
        "names[0] = \"I Love \"+names[0];\n",
        "names[1] = \"I Like \"+names[1];\n",
        "names[2] = \"I Like \"+names[2];\n",
        "names[3] = \"I Like \"+names[3];\n",
        "print(names);"
      ],
      "metadata": {
        "colab": {
          "base_uri": "https://localhost:8080/"
        },
        "id": "cHg7F4k8KPNt",
        "outputId": "6dd7efa4-042a-4113-bb26-74ea98d162fc"
      },
      "execution_count": 15,
      "outputs": [
        {
          "output_type": "stream",
          "name": "stdout",
          "text": [
            "['I Love Allah', 'I Like Athar Abbas', 'I Like Zaroon Jamal', 'I Like Mati ur Rahman']\n"
          ]
        }
      ]
    },
    {
      "cell_type": "code",
      "source": [
        "Car:list = [\"OD Car\",\"Land Cruiser\",\"Parado\"];\n",
        "print(\"I would like to own a \"+Car[0]);\n",
        "print(\"I would like to own a \"+Car[1]);\n",
        "print(\"I would like to own a \"+Car[2]);\n",
        "print(Car);\n",
        "\n",
        "\n"
      ],
      "metadata": {
        "colab": {
          "base_uri": "https://localhost:8080/"
        },
        "id": "EwhVIicpQo-w",
        "outputId": "c25a66e4-7366-49ef-bdf6-372edbaf5a9a"
      },
      "execution_count": 19,
      "outputs": [
        {
          "output_type": "stream",
          "name": "stdout",
          "text": [
            "I would like to own a OD Car\n",
            "I would like to own a Land Cruiser\n",
            "I would like to own a Parado\n",
            "[None, None, None]\n"
          ]
        }
      ]
    },
    {
      "cell_type": "code",
      "source": [
        "Living:list = [\"Sahil Adeem\",\"Arham\",\"Imran Khan\"];\n",
        "print(Living[0]+\"! You are invited on Dinner at my House.\");\n",
        "print(Living[1]+\"! You are invited on Dinner at my House.\");\n",
        "print(Living[2]+\"! You are invited on Dinner at my House.\");\n",
        "print(Living[1]+\"! I remember you that you invited.\");\n",
        "Living[1] = \"Zaroon Jamal\";\n",
        "print(Living[0]+\"! You are invited on Dinner at my House.\");\n",
        "print(Living[1]+\"! You are invited on Dinner at my House.\");\n",
        "print(Living[2]+\"! You are invited on Dinner at my House.\");\n",
        "Living.insert(0,\"Mati ur Rahman\");\n",
        "Living.insert(2,\"Athar Abbas\");\n",
        "Living.append(\"Tayyab Shahzad\");\n",
        "print(Living);\n",
        "print(Living[0]+\"! You are invited on Dinner at my House\");\n",
        "print(Living[1]+\"You are invited on Dinner at my House\");\n",
        "print(Living[2]+\"! You are invited on Dinner at my House\");\n",
        "print(Living[3]+\"! You are invited on Dinner at my House\");\n",
        "print(Living[4]+\"! You are invited on Dinner at my House\");\n",
        "print(Living[-1]+\"! You are invited on Dinner at my House\");\n",
        "p1 = Living.pop();\n",
        "p2 = Living.pop();\n",
        "p3 = Living.pop();\n",
        "p4 = Living.pop();\n",
        "print(p1+\"! Sorry you are not invited because of some issue\");\n",
        "print(p2+\"! Sorry you are not invited because of some issue\");\n",
        "print(p3+\"! Sorry you are not invited because of some issue\");\n",
        "print(p4+\"! Sorry you are not invited because of some issue\");\n",
        "print(Living);\n",
        "print(Living[0]+\"! You are invited at dinner\");\n",
        "print(Living[1]+\"! You are invited at dinner\");\n",
        "del Living[0];\n",
        "del Living[0];\n",
        "print(Living);\n",
        "\n",
        "\n",
        "\n",
        "\n",
        "\n"
      ],
      "metadata": {
        "colab": {
          "base_uri": "https://localhost:8080/"
        },
        "id": "E__6k3-_ThUm",
        "outputId": "bd9f47b0-d672-4466-d7c0-3c249f585684"
      },
      "execution_count": 18,
      "outputs": [
        {
          "output_type": "stream",
          "name": "stdout",
          "text": [
            "Sahil Adeem! You are invited on Dinner at my House.\n",
            "Arham! You are invited on Dinner at my House.\n",
            "Imran Khan! You are invited on Dinner at my House.\n",
            "Arham! I remember you that you invited.\n",
            "Sahil Adeem! You are invited on Dinner at my House.\n",
            "Zaroon Jamal! You are invited on Dinner at my House.\n",
            "Imran Khan! You are invited on Dinner at my House.\n",
            "['Mati ur Rahman', 'Sahil Adeem', 'Athar Abbas', 'Zaroon Jamal', 'Imran Khan', 'Tayyab Shahzad']\n",
            "Mati ur Rahman! You are invited on Dinner at my House\n",
            "Sahil AdeemYou are invited on Dinner at my House\n",
            "Athar Abbas! You are invited on Dinner at my House\n",
            "Zaroon Jamal! You are invited on Dinner at my House\n",
            "Imran Khan! You are invited on Dinner at my House\n",
            "Tayyab Shahzad! You are invited on Dinner at my House\n",
            "Tayyab Shahzad! Sorry you are not invited because of some issue\n",
            "Imran Khan! Sorry you are not invited because of some issue\n",
            "Zaroon Jamal! Sorry you are not invited because of some issue\n",
            "Athar Abbas! Sorry you are not invited because of some issue\n",
            "['Mati ur Rahman', 'Sahil Adeem']\n",
            "Mati ur Rahman! You are invited at dinner\n",
            "Sahil Adeem! You are invited at dinner\n",
            "[]\n"
          ]
        }
      ]
    },
    {
      "cell_type": "code",
      "source": [
        "Location:list = [\"Kashmir\",\"Murree\",\"Egyption Pyramids\",\"Switzerland\"];\n",
        "print(Location);\n",
        "Location.sort();\n",
        "print(Location);\n",
        "Location.sort(reverse=True);\n",
        "print(Location);\n",
        "Location.reverse();\n",
        "print(Location);\n",
        "Location.reverse();\n",
        "print(Location);\n",
        "Location.sort();\n",
        "print(Location);\n",
        "Location.sort(reverse=True);\n",
        "print(Location);\n",
        "Length = len(Location);\n",
        "print(Length);\n"
      ],
      "metadata": {
        "colab": {
          "base_uri": "https://localhost:8080/"
        },
        "id": "-ZL3CdTYbPXs",
        "outputId": "1ac54765-cc56-4598-ec8a-c865c8379751"
      },
      "execution_count": 17,
      "outputs": [
        {
          "output_type": "stream",
          "name": "stdout",
          "text": [
            "['Kashmir', 'Murree', 'Egyption Pyramids', 'Switzerland']\n",
            "['Egyption Pyramids', 'Kashmir', 'Murree', 'Switzerland']\n",
            "['Switzerland', 'Murree', 'Kashmir', 'Egyption Pyramids']\n",
            "['Egyption Pyramids', 'Kashmir', 'Murree', 'Switzerland']\n",
            "['Switzerland', 'Murree', 'Kashmir', 'Egyption Pyramids']\n",
            "['Egyption Pyramids', 'Kashmir', 'Murree', 'Switzerland']\n",
            "['Switzerland', 'Murree', 'Kashmir', 'Egyption Pyramids']\n",
            "4\n"
          ]
        }
      ]
    },
    {
      "cell_type": "code",
      "source": [
        "Nature:list = [\"Mountains\",\"Rivers\",\"Country\",\"Oceans\",\"Valleys\"];\n",
        "Nature.sort();\n",
        "print(Nature);\n",
        "# Nature.slice(2,4);\n",
        "Nature.reverse();\n",
        "check = len(Nature);\n",
        "print(check);\n",
        "\n",
        "\n",
        "\n"
      ],
      "metadata": {
        "id": "ShPpkMGla-ub"
      },
      "execution_count": null,
      "outputs": []
    }
  ]
}